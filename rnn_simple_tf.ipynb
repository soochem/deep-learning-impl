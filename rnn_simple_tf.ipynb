{
 "cells": [
  {
   "cell_type": "markdown",
   "metadata": {},
   "source": [
    "# Simple RNN\n",
    "출처: https://excelsior-cjh.tistory.com/183"
   ]
  },
  {
   "cell_type": "code",
   "execution_count": 2,
   "metadata": {},
   "outputs": [
    {
     "name": "stdout",
     "output_type": "stream",
     "text": [
      "Y0_val:(4, 5)\n",
      "[[-0.9346479  -0.999754   -0.9352834  -0.19293833 -0.5301121 ]\n",
      " [-0.9996704  -1.         -0.95082015 -0.68673545  0.8658863 ]\n",
      " [-0.9999984  -1.         -0.9626988  -0.9029772   0.99683195]\n",
      " [ 0.41489333 -0.9999999   0.9999999  -0.7730039   0.9999999 ]]\n",
      "Y1_val:(4, 5)\n",
      "[[-0.9999997  -1.          0.98264104 -0.7184118   0.99999994]\n",
      " [-0.99953645 -1.         -0.5782614   0.78892785  0.9998648 ]\n",
      " [-0.9972815  -1.          0.9901008   0.75327677  0.9999999 ]\n",
      " [ 0.93395495 -0.9999841   0.9802242   0.99958     0.99152684]]\n"
     ]
    }
   ],
   "source": [
    "import numpy as np\n",
    "import tensorflow as tf\n",
    "\n",
    "n_inputs = 3 \n",
    "n_neurons = 5 \n",
    "X0 = tf.placeholder(tf.float32, [None, n_inputs]) \n",
    "X1 = tf.placeholder(tf.float32, [None, n_inputs]) \n",
    "\n",
    "Wx = tf.Variable(tf.random_normal(shape=[n_inputs, n_neurons], dtype=tf.float32)) \n",
    "Wy = tf.Variable(tf.random_normal(shape=[n_neurons, n_neurons], dtype=tf.float32)) \n",
    "b = tf.Variable(tf.zeros([1, n_neurons], dtype=tf.float32)) \n",
    "\n",
    "Y0 = tf.tanh(tf.matmul(X0, Wx) + b) \n",
    "Y1 = tf.tanh(tf.matmul(Y0, Wy) + tf.matmul(X1, Wx) + b)\n",
    "\n",
    "# input data (mini-batch) \n",
    "#t = 0\n",
    "X0_batch = np.array([[0, 1, 2], # sample 0 \n",
    "                     [3, 4, 5], # sample 1 \n",
    "                     [6, 7, 8], # sample 2 \n",
    "                     [9, 0, 1]]) # sample 3 \n",
    "#t = 1 \n",
    "X1_batch = np.array([[9, 8, 7], [3, 4, 5], [6, 5, 4], [3, 2, 1]]) \n",
    "\n",
    "with tf.Session() as sess: \n",
    "    tf.global_variables_initializer().run() \n",
    "    Y0_val, Y1_val = sess.run([Y0, Y1], feed_dict={X0: X0_batch, X1: X1_batch}) \n",
    "    print('Y0_val:{}\\n{}'.format(Y0_val.shape, Y0_val))\n",
    "    print('Y1_val:{}\\n{}'.format(Y1_val.shape, Y1_val))"
   ]
  }
 ],
 "metadata": {
  "kernelspec": {
   "display_name": "tf-test",
   "language": "python",
   "name": "tf-test"
  },
  "language_info": {
   "codemirror_mode": {
    "name": "ipython",
    "version": 3
   },
   "file_extension": ".py",
   "mimetype": "text/x-python",
   "name": "python",
   "nbconvert_exporter": "python",
   "pygments_lexer": "ipython3",
   "version": "3.7.6"
  }
 },
 "nbformat": 4,
 "nbformat_minor": 4
}
