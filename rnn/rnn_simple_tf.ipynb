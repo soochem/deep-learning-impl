{
 "cells": [
  {
   "cell_type": "markdown",
   "metadata": {},
   "source": [
    "# Simple RNN\n",
    "출처: https://excelsior-cjh.tistory.com/183"
   ]
  },
  {
   "cell_type": "code",
   "execution_count": 1,
   "metadata": {},
   "outputs": [
    {
     "name": "stdout",
     "output_type": "stream",
     "text": [
      "Y0_val:(4, 5)\n",
      "[[-0.99945116 -0.4396      0.53413403 -0.9987171  -0.11120202]\n",
      " [-1.         -0.8893854   0.9998925  -0.99999994  0.76220447]\n",
      " [-1.         -0.9825437   1.         -1.          0.9712885 ]\n",
      " [-1.         -0.19585446  0.9999999   0.80428195  0.09622727]]\n",
      "Y1_val:(4, 5)\n",
      "[[-1.         -0.99673605  1.         -1.          0.98843205]\n",
      " [-1.         -0.7941649   0.99999946 -0.9999999   0.6598104 ]\n",
      " [-1.         -0.6553332   1.         -0.9999832   0.9800722 ]\n",
      " [-1.         -0.53250164  0.99997544 -0.9626149   0.877505  ]]\n"
     ]
    }
   ],
   "source": [
    "import numpy as np\n",
    "import tensorflow as tf\n",
    "\n",
    "n_inputs = 3 \n",
    "n_neurons = 5 \n",
    "X0 = tf.placeholder(tf.float32, [None, n_inputs]) \n",
    "X1 = tf.placeholder(tf.float32, [None, n_inputs]) \n",
    "\n",
    "Wx = tf.Variable(tf.random_normal(shape=[n_inputs, n_neurons], dtype=tf.float32)) \n",
    "Wy = tf.Variable(tf.random_normal(shape=[n_neurons, n_neurons], dtype=tf.float32)) \n",
    "b = tf.Variable(tf.zeros([1, n_neurons], dtype=tf.float32)) \n",
    "\n",
    "Y0 = tf.tanh(tf.matmul(X0, Wx) + b) \n",
    "Y1 = tf.tanh(tf.matmul(Y0, Wy) + tf.matmul(X1, Wx) + b)\n",
    "\n",
    "# input data (mini-batch) \n",
    "#t = 0\n",
    "X0_batch = np.array([[0, 1, 2], # sample 0 \n",
    "                     [3, 4, 5], # sample 1 \n",
    "                     [6, 7, 8], # sample 2 \n",
    "                     [9, 0, 1]]) # sample 3 \n",
    "#t = 1 \n",
    "X1_batch = np.array([[9, 8, 7], [3, 4, 5], [6, 5, 4], [3, 2, 1]]) \n",
    "\n",
    "with tf.Session() as sess: \n",
    "    tf.global_variables_initializer().run() \n",
    "    Y0_val, Y1_val = sess.run([Y0, Y1], feed_dict={X0: X0_batch, X1: X1_batch}) \n",
    "    print('Y0_val:{}\\n{}'.format(Y0_val.shape, Y0_val))\n",
    "    print('Y1_val:{}\\n{}'.format(Y1_val.shape, Y1_val))"
   ]
  },
  {
   "cell_type": "code",
   "execution_count": null,
   "metadata": {},
   "outputs": [],
   "source": []
  }
 ],
 "metadata": {
  "kernelspec": {
   "display_name": "venv",
   "language": "python",
   "name": "venv"
  },
  "language_info": {
   "codemirror_mode": {
    "name": "ipython",
    "version": 3
   },
   "file_extension": ".py",
   "mimetype": "text/x-python",
   "name": "python",
   "nbconvert_exporter": "python",
   "pygments_lexer": "ipython3",
   "version": "3.6.5"
  }
 },
 "nbformat": 4,
 "nbformat_minor": 4
}
